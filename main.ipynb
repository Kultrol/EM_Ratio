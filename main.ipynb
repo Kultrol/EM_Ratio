{
 "cells": [
  {
   "cell_type": "code",
   "outputs": [],
   "source": [
    "import LT.box as B\n",
    "import numpy as np\n",
    "\n",
    "ACCELERATING_VOLTAGE = [200,250,300,400] ##Constant Values\n",
    "ELECTRON_MASS = 9.10938356e-31 ## Constant Values \n",
    "COIL_TURNS= 132 ## Constant Value\n",
    "COIL_RADIUS= 0.14 ## Constant Value [Meter]\n",
    "COIL_RADIUS_UNCERTAINTY= 0.45 ## Constant Value\n",
    "CURRENT_UNCERTAINTY= 0.1\n",
    "VOLTAGE_UNCERTAINTY= 1\n",
    "MU_0 = (10**(-7)) * 4* np.pi ## Constant Value"
   ],
   "metadata": {
    "collapsed": false,
    "ExecuteTime": {
     "end_time": "2024-01-24T20:33:25.851245Z",
     "start_time": "2024-01-24T20:33:25.832581Z"
    }
   },
   "id": "f9be9596b9fc1b18",
   "execution_count": 62
  },
  {
   "cell_type": "code",
   "outputs": [],
   "source": [
    "class VoltageTrial:\n",
    "    \"\"\"\n",
    "    Represents a set of voltage trials in a physics experiment, \n",
    "    each with a different coil radius.\n",
    "    \"\"\"\n",
    "    def __init__(self, voltage:int, trial_currents, trial_path_diameter):\n",
    "        \"\"\"\n",
    "        Initializes the voltage trials with specified parameters.\n",
    "        :param voltage: A chosen voltage value.\n",
    "        \"\"\"\n",
    "        \n",
    "        #Loaded Values\n",
    "        self.voltage = voltage\n",
    "        self.currents = trial_currents  # Array to store current values\n",
    "        self.path_diameter = trial_path_diameter\n",
    "        \n",
    "        #Calculated Values\n",
    "        self.magnetic_fields = np.array([])  # Array to store magnetic field values\n",
    "        self.magnetic_field_uncertainty = []  # Array to store magnetic field uncertainty values\n",
    "        self.charge_mass_ratio = np.array([])  # Array to store charge to mass ratio values\n",
    "        self.charge_mass_ratio_uncertainty = []  # Array to store charge to mass ratio uncertainty values\n",
    "\n",
    "    def calculate_magnetic_fields(self):\n",
    "        \"\"\"\n",
    "        Calculates and stores magnetic field values based on the currents and varying coil radii.\n",
    "        \"\"\"\n",
    "        self.magnetic_fields = ((COIL_TURNS * self.currents* MU_0) / COIL_RADIUS) * ((4/5)**(3/2)) \n",
    "        \n",
    "    def calculate_charge_mass_ratio(self):\n",
    "        \"\"\"\n",
    "        Calculates and returns the charge to mass ratio of the electron.\n",
    "        \"\"\"\n",
    "        path_radii = np.array([diameter_array / 2 for diameter_array in self.path_diameter])\n",
    "        self.charge_mass_ratio = (2 * self.voltage) / (np.square(self.magnetic_fields) * np.square(path_radii))\n",
    "        \n",
    "    def calculate_magnetic_uncertainty(self):\n",
    "        \"\"\"\n",
    "        Calculates and returns the uncertainty in the magnetic field.\n",
    "        \"\"\"\n",
    "        for i_current in self.currents:\n",
    "            partialN = np.square(i_current/COIL_RADIUS)\n",
    "            partialR = np.square(COIL_TURNS/COIL_RADIUS)\n",
    "            partialI = np.square(i_current * COIL_TURNS / np.square(COIL_RADIUS))\n",
    "            self.magnetic_field_uncertainty.append(((4/5)**(3/2)) * MU_0 * (np.sqrt(partialN * np.square(0)+ partialI * np.square(CURRENT_UNCERTAINTY)+ partialR*np.square(COIL_RADIUS_UNCERTAINTY))))\n",
    "        \n",
    "    def calculate_charge_mass_ratio_uncertainty(self):\n",
    "        \"\"\"\n",
    "        Calculates and returns the uncertainty in the charge to mass ratio.\n",
    "        \"\"\"\n",
    "        partialB = np.square((-4*self.voltage)/(self.magnetic_fields**3 * np.square(COIL_RADIUS)))\n",
    "        partialV = np.square(2/(self.magnetic_fields**2 * COIL_RADIUS**2))\n",
    "        partialR = np.square((-4 * self.voltage)/(self.magnetic_fields**2 * COIL_RADIUS**3))\n",
    "        \n",
    "        self.charge_mass_ratio_uncertainty = np.sqrt(partialB * np.square(self.magnetic_field_uncertainty) + partialV * np.square(VOLTAGE_UNCERTAINTY) + partialR * np.square(COIL_RADIUS_UNCERTAINTY))"
   ],
   "metadata": {
    "collapsed": false,
    "ExecuteTime": {
     "end_time": "2024-01-24T20:33:25.852939Z",
     "start_time": "2024-01-24T20:33:25.836811Z"
    }
   },
   "id": "3ad6c7c2f746a341",
   "execution_count": 63
  },
  {
   "cell_type": "code",
   "outputs": [],
   "source": [
    "currents = []  # Read as, index is the trial and the value is the currents for that trial\n",
    "currents.append(np.array([1.30,1.42,1.48,1.54,1.60,1.66,1.72,1.78,1.84,1.90]))\n",
    "currents.append(np.array([1.42,1.48,1.54,1.60,1.66,1.72,1.78,1.84,1.90,1.96]))\n",
    "currents.append(np.array([1.68,1.74,1.80,1.86,1.92,1.98,2.04,2.10,2.16,2.22]))\n",
    "currents.append(np.array([1.98,2.04,2.10,2.16,2.22,2.28,2.34,2.40,2.46,2.52]))\n",
    "\n",
    "path_diameter = []# Read as, index is the trial and the value is the path radii for that trial\n",
    "path_diameter.append(np.array([8.6,8.3,8.0,7.6,7.4,7.2,6.8,6.6,6.4,6.2]))\n",
    "path_diameter.append(np.array([9.6,9.2,8.7,8.4,8.1,7.9,7.6,7.3,7.1,6.8]))\n",
    "path_diameter.append(np.array([8.9,8.6,8.4,8.1,7.8,7.6,7.4,7.1,6.9,6.7]))\n",
    "path_diameter.append(np.array([8.9,8.7,8.4,8.2,7.9,7.7,7.5,7.4,7.2,7.9,6.9]))\n",
    "\n",
    "path_diameter_uncertainty = [] # Read as, index is the trial and the value is the path radii uncertainty for that trial\n",
    "path_diameter_uncertainty.append(np.array([0.1,0.1,0.1,0.2,0.1,0.2,0.2,0.2,0.1,0.1]))\n",
    "path_diameter_uncertainty.append(np.array([0.1,0.1,0.1,0.1,0.1,0.2,0.1,0.2,0.2,0.2]))\n",
    "path_diameter_uncertainty.append(np.array([0.1,0.1,0.1,0.2,0.2,0.2,0.2,0.1,0.1,0.2]))\n",
    "path_diameter_uncertainty.append(np.array([0.3,0.2,0.2,0.2,0.2,0.1,0.1,0.1,0.1,0.1]))\n",
    "\n"
   ],
   "metadata": {
    "collapsed": false,
    "ExecuteTime": {
     "end_time": "2024-01-24T20:33:25.861599Z",
     "start_time": "2024-01-24T20:33:25.852630Z"
    }
   },
   "id": "75c7184f46a9ea3",
   "execution_count": 64
  },
  {
   "cell_type": "code",
   "outputs": [],
   "source": [
    "trial_200 = VoltageTrial(200, currents[0], path_diameter[0])\n",
    "trial_250 = VoltageTrial(250, currents[1], path_diameter[1])\n",
    "trial_300 = VoltageTrial(300, currents[2], path_diameter[2])\n",
    "trial_400 = VoltageTrial(400, currents[3], path_diameter[3])"
   ],
   "metadata": {
    "collapsed": false,
    "ExecuteTime": {
     "end_time": "2024-01-24T20:33:25.862600Z",
     "start_time": "2024-01-24T20:33:25.856689Z"
    }
   },
   "id": "d4ca4e34dd2e0a4",
   "execution_count": 65
  },
  {
   "cell_type": "code",
   "outputs": [
    {
     "name": "stdout",
     "output_type": "stream",
     "text": [
      "magnetic field: 1.10e-03\n",
      "Mag Uncertainty: 8.75e-04\n",
      "E/M: 1.78e+07\n",
      "E/M Uncertainty: 1.11e+11\n"
     ]
    }
   ],
   "source": [
    "trial_200.calculate_magnetic_fields()\n",
    "trial_200.calculate_magnetic_uncertainty()\n",
    "trial_200.calculate_charge_mass_ratio()\n",
    "trial_200.calculate_charge_mass_ratio_uncertainty()\n",
    "\n",
    "print(f\"magnetic field: {trial_200.magnetic_fields[0]:.2e}\")\n",
    "print(f\"Mag Uncertainty: {trial_200.magnetic_field_uncertainty[0]:.2e}\")\n",
    "print(f\"E/M: {trial_200.charge_mass_ratio[0]:.2e}\")\n",
    "print(f\"E/M Uncertainty: {trial_200.charge_mass_ratio_uncertainty[0]:.2e}\")\n",
    "\n"
   ],
   "metadata": {
    "collapsed": false,
    "ExecuteTime": {
     "end_time": "2024-01-24T20:33:25.871441Z",
     "start_time": "2024-01-24T20:33:25.866077Z"
    }
   },
   "id": "82309ddd9b23e81c",
   "execution_count": 66
  },
  {
   "cell_type": "code",
   "outputs": [
    {
     "data": {
      "text/plain": "<Figure size 640x480 with 1 Axes>",
      "image/png": "[encoded data removed]"
     },
     "metadata": {},
     "output_type": "display_data"
    }
   ],
   "source": [
    "B.plot_exp(currents[0], trial_200.charge_mass_ratio, trial_200.charge_mass_ratio_uncertainty)\n",
    "B.pl.ylim(-3e11, 3e11)\n",
    "B.pl.title('Charge to Mass Ratio vs Current')\n",
    "B.pl.xlabel('Current (A)')\n",
    "B.pl.ylabel('Charge to Mass Ratio (C/kg)')\n",
    "\n",
    "\n",
    "B.plot_line(currents[0], trial_200.charge_mass_ratio)\n",
    "\n",
    "B.pl.show()"
   ],
   "metadata": {
    "collapsed": false,
    "ExecuteTime": {
     "end_time": "2024-01-24T20:33:25.940467Z",
     "start_time": "2024-01-24T20:33:25.875884Z"
    }
   },
   "id": "11471991e7b7fd47",
   "execution_count": 67
  },
  {
   "cell_type": "code",
   "outputs": [
    {
     "name": "stdout",
     "output_type": "stream",
     "text": [
      "161923718.041905\n"
     ]
    }
   ],
   "source": [
    "def sum_of_rem(trial_1:[],trial_2:[],trial_3:[],trial_4:[]):\n",
    "    rem_sum = 0\n",
    "    for i in trial_1:\n",
    "        rem_sum += i\n",
    "\n",
    "    for i in trial_2:\n",
    "            rem_sum += i    \n",
    "            \n",
    "    for i in trial_3:\n",
    "        rem_sum += i\n",
    "\n",
    "    for i in trial_4:\n",
    "            rem_sum += i\n",
    "    \n",
    "    print(rem_sum)\n",
    "    \n",
    "sum_of_rem(trial_200.charge_mass_ratio,trial_250.charge_mass_ratio,trial_300.charge_mass_ratio,trial_400.charge_mass_ratio)"
   ],
   "metadata": {
    "collapsed": false,
    "ExecuteTime": {
     "end_time": "2024-01-24T20:33:25.943486Z",
     "start_time": "2024-01-24T20:33:25.939685Z"
    }
   },
   "id": "2f86fd2d3556033c",
   "execution_count": 68
  },
  {
   "cell_type": "code",
   "outputs": [],
   "source": [],
   "metadata": {
    "collapsed": false,
    "ExecuteTime": {
     "end_time": "2024-01-24T20:33:25.946462Z",
     "start_time": "2024-01-24T20:33:25.942955Z"
    }
   },
   "id": "67b03f9d8314ca87",
   "execution_count": 68
  }
 ],
 "metadata": {
  "kernelspec": {
   "display_name": "Python 3",
   "language": "python",
   "name": "python3"
  },
  "language_info": {
   "codemirror_mode": {
    "name": "ipython",
    "version": 2
   },
   "file_extension": ".py",
   "mimetype": "text/x-python",
   "name": "python",
   "nbconvert_exporter": "python",
   "pygments_lexer": "ipython2",
   "version": "2.7.6"
  }
 },
 "nbformat": 4,
 "nbformat_minor": 5
}
